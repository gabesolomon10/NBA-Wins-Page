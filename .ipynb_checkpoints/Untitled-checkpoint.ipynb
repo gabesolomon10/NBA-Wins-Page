{
 "cells": [
  {
   "cell_type": "code",
   "execution_count": 1,
   "id": "93a98ce0",
   "metadata": {},
   "outputs": [],
   "source": [
    "import os\n",
    "\n",
    "#Import other stuff\n",
    "import matplotlib.pyplot as plt\n",
    "import numpy as np\n",
    "import pandas as pd\n",
    "import requests\n",
    "from bs4 import BeautifulSoup\n",
    "from flask import Flask, render_template, request\n",
    "#Caching imports\n",
    "from flask_caching import Cache"
   ]
  },
  {
   "cell_type": "code",
   "execution_count": 2,
   "id": "535f9ea9",
   "metadata": {},
   "outputs": [],
   "source": [
    "logos_folder = os.path.join('static', 'nba_logos')\n",
    "pics_folder = os.path.join('static', 'profiles')\n",
    "\n",
    "#App setup\n",
    "app = Flask(__name__)\n",
    "app.config['nba_folder'] = logos_folder\n",
    "app.config['profiles_folder'] = pics_folder\n"
   ]
  },
  {
   "cell_type": "code",
   "execution_count": 4,
   "id": "77496f70",
   "metadata": {},
   "outputs": [
    {
     "ename": "AttributeError",
     "evalue": "'DataFrame' object has no attribute 'concat'",
     "output_type": "error",
     "traceback": [
      "\u001b[0;31m---------------------------------------------------------------------------\u001b[0m",
      "\u001b[0;31mAttributeError\u001b[0m                            Traceback (most recent call last)",
      "Input \u001b[0;32mIn [4]\u001b[0m, in \u001b[0;36m<cell line: 19>\u001b[0;34m()\u001b[0m\n\u001b[1;32m     16\u001b[0m eastern_conf_df \u001b[38;5;241m=\u001b[39m eastern_conf_df\u001b[38;5;241m.\u001b[39mrename(columns\u001b[38;5;241m=\u001b[39m{\u001b[38;5;124m\"\u001b[39m\u001b[38;5;124mEastern Conference\u001b[39m\u001b[38;5;124m\"\u001b[39m: \u001b[38;5;124m\"\u001b[39m\u001b[38;5;124mTeam\u001b[39m\u001b[38;5;124m\"\u001b[39m})\n\u001b[1;32m     18\u001b[0m \u001b[38;5;66;03m#Add necessary columns to standings\u001b[39;00m\n\u001b[0;32m---> 19\u001b[0m standings_df \u001b[38;5;241m=\u001b[39m \u001b[43mwestern_conf_df\u001b[49m\u001b[38;5;241;43m.\u001b[39;49m\u001b[43mconcat\u001b[49m(eastern_conf_df)\n\u001b[1;32m     21\u001b[0m standings_df[\u001b[38;5;124m'\u001b[39m\u001b[38;5;124mTeam\u001b[39m\u001b[38;5;124m'\u001b[39m] \u001b[38;5;241m=\u001b[39m standings_df[\u001b[38;5;124m'\u001b[39m\u001b[38;5;124mTeam\u001b[39m\u001b[38;5;124m'\u001b[39m]\u001b[38;5;241m.\u001b[39mastype(\u001b[38;5;28mstr\u001b[39m)\n\u001b[1;32m     22\u001b[0m standings_df[\u001b[38;5;124m'\u001b[39m\u001b[38;5;124mTeam\u001b[39m\u001b[38;5;124m'\u001b[39m] \u001b[38;5;241m=\u001b[39m standings_df[\u001b[38;5;124m'\u001b[39m\u001b[38;5;124mTeam\u001b[39m\u001b[38;5;124m'\u001b[39m]\u001b[38;5;241m.\u001b[39mstr\u001b[38;5;241m.\u001b[39mreplace(\u001b[38;5;124m\"\u001b[39m\u001b[38;5;124m\\\u001b[39m\u001b[38;5;124m([0-9]+\u001b[39m\u001b[38;5;124m\\\u001b[39m\u001b[38;5;124m)\u001b[39m\u001b[38;5;124m\"\u001b[39m, \u001b[38;5;124m\"\u001b[39m\u001b[38;5;124m\"\u001b[39m)\n",
      "File \u001b[0;32m~/venv/jupyter_venv/lib/python3.9/site-packages/pandas/core/generic.py:5575\u001b[0m, in \u001b[0;36mNDFrame.__getattr__\u001b[0;34m(self, name)\u001b[0m\n\u001b[1;32m   5568\u001b[0m \u001b[38;5;28;01mif\u001b[39;00m (\n\u001b[1;32m   5569\u001b[0m     name \u001b[38;5;129;01mnot\u001b[39;00m \u001b[38;5;129;01min\u001b[39;00m \u001b[38;5;28mself\u001b[39m\u001b[38;5;241m.\u001b[39m_internal_names_set\n\u001b[1;32m   5570\u001b[0m     \u001b[38;5;129;01mand\u001b[39;00m name \u001b[38;5;129;01mnot\u001b[39;00m \u001b[38;5;129;01min\u001b[39;00m \u001b[38;5;28mself\u001b[39m\u001b[38;5;241m.\u001b[39m_metadata\n\u001b[1;32m   5571\u001b[0m     \u001b[38;5;129;01mand\u001b[39;00m name \u001b[38;5;129;01mnot\u001b[39;00m \u001b[38;5;129;01min\u001b[39;00m \u001b[38;5;28mself\u001b[39m\u001b[38;5;241m.\u001b[39m_accessors\n\u001b[1;32m   5572\u001b[0m     \u001b[38;5;129;01mand\u001b[39;00m \u001b[38;5;28mself\u001b[39m\u001b[38;5;241m.\u001b[39m_info_axis\u001b[38;5;241m.\u001b[39m_can_hold_identifiers_and_holds_name(name)\n\u001b[1;32m   5573\u001b[0m ):\n\u001b[1;32m   5574\u001b[0m     \u001b[38;5;28;01mreturn\u001b[39;00m \u001b[38;5;28mself\u001b[39m[name]\n\u001b[0;32m-> 5575\u001b[0m \u001b[38;5;28;01mreturn\u001b[39;00m \u001b[38;5;28;43mobject\u001b[39;49m\u001b[38;5;241;43m.\u001b[39;49m\u001b[38;5;21;43m__getattribute__\u001b[39;49m\u001b[43m(\u001b[49m\u001b[38;5;28;43mself\u001b[39;49m\u001b[43m,\u001b[49m\u001b[43m \u001b[49m\u001b[43mname\u001b[49m\u001b[43m)\u001b[49m\n",
      "\u001b[0;31mAttributeError\u001b[0m: 'DataFrame' object has no attribute 'concat'"
     ]
    }
   ],
   "source": [
    "\t#Scrape standings from basketball-reference\n",
    "\tstats_page = requests.get('https://www.basketball-reference.com/leagues/NBA_2023.html')\n",
    "\tcontent = stats_page.content\n",
    "\tsoup = BeautifulSoup(content, 'html.parser')\n",
    "\n",
    "\twestern_conf = soup.find(name='table', attrs={'id': 'confs_standings_W'})\n",
    "\teastern_conf = soup.find(name='table', attrs={'id': 'confs_standings_E'})\n",
    "\n",
    "\twestern_str = str(western_conf)\n",
    "\teastern_str = str(eastern_conf)\n",
    "\n",
    "\twestern_conf_df = pd.read_html(western_str)[0]\n",
    "\teastern_conf_df = pd.read_html(eastern_str)[0]\n",
    "\n",
    "\twestern_conf_df = western_conf_df.rename(columns={\"Western Conference\": \"Team\"})\n",
    "\teastern_conf_df = eastern_conf_df.rename(columns={\"Eastern Conference\": \"Team\"})\n",
    "\n",
    "\t#Add necessary columns to standings\n",
    "\tstandings_df = pd.concat([eastern_conf_df, wester_conf_df])\n",
    "\n",
    "\tstandings_df['Team'] = standings_df['Team'].astype(str)\n",
    "\tstandings_df['Team'] = standings_df['Team'].str.replace(\"\\([0-9]+\\)\", \"\")\n",
    "\tstandings_df['Team'] = standings_df['Team'].str.replace(\"*\", \"\")\n",
    "\tstandings_df['Team'] = standings_df['Team'].str.strip()\n",
    "\n",
    "\tstandings_df['W'] = standings_df['W'].replace(np.nan, 0)\n",
    "\tstandings_df['L'] = standings_df['L'].replace(np.nan, 0)\n",
    "\tstandings_df['W'] = standings_df[\"W\"].round().astype(int)\n",
    "\tstandings_df['L'] = standings_df[\"L\"].round().astype(int)\n",
    "\tstandings_df[\"Record\"] = standings_df['W'].map(str) + \"-\" + standings_df['L'].map(str)"
   ]
  }
 ],
 "metadata": {
  "kernelspec": {
   "display_name": "Python 3 (ipykernel)",
   "language": "python",
   "name": "python3"
  },
  "language_info": {
   "codemirror_mode": {
    "name": "ipython",
    "version": 3
   },
   "file_extension": ".py",
   "mimetype": "text/x-python",
   "name": "python",
   "nbconvert_exporter": "python",
   "pygments_lexer": "ipython3",
   "version": "3.9.13"
  }
 },
 "nbformat": 4,
 "nbformat_minor": 5
}
